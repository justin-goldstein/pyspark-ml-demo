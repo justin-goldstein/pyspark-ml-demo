{
 "cells": [
  {
   "cell_type": "code",
   "execution_count": 23,
   "metadata": {},
   "outputs": [
    {
     "data": {
      "application/vnd.jupyter.widget-view+json": {
       "model_id": "14798a2b84bd40dda879c3294d38587b",
       "version_major": 2,
       "version_minor": 0
      },
      "text/plain": [
       "VBox()"
      ]
     },
     "metadata": {},
     "output_type": "display_data"
    },
    {
     "data": {
      "application/vnd.jupyter.widget-view+json": {
       "model_id": "",
       "version_major": 2,
       "version_minor": 0
      },
      "text/plain": [
       "FloatProgress(value=0.0, bar_style='info', description='Progress:', layout=Layout(height='25px', width='50%'),…"
      ]
     },
     "metadata": {},
     "output_type": "display_data"
    },
    {
     "name": "stdout",
     "output_type": "stream",
     "text": [
      "+--------------------+------+------+-----+-----------+------+-------+\n",
      "|             patient|height|weight|  BMI|cholesterol|sodium|glucose|\n",
      "+--------------------+------+------+-----+-----------+------+-------+\n",
      "|00c343e4-e4eb-4c6...|176.61|116.12|37.23|      163.0| 141.0|   83.0|\n",
      "|00eec485-f89d-472...| 172.3| 94.04|31.68|      207.0| 140.0|  116.0|\n",
      "|017299f2-de8f-43a...|177.38|135.75|43.15|      161.0| 139.0|   72.0|\n",
      "|018dd53e-4b90-41c...|163.33|136.74|51.26|      162.0| 143.0|   71.0|\n",
      "|0190ce14-8897-495...| 161.1| 72.92| 28.1|      196.0| 137.0|   75.0|\n",
      "|01e7a88d-34ac-494...|173.35|105.97|35.27|      169.0| 143.0|   85.0|\n",
      "|01f649ca-232e-4c1...|151.11|102.05|44.69|      199.0| 140.0|   94.0|\n",
      "|0216c768-a4c0-46a...|169.24| 96.32|33.63|      197.0| 140.0|   64.0|\n",
      "|023230b8-01ca-4d3...|157.84| 92.49|37.13|      179.0| 142.0|   88.0|\n",
      "|02357156-a39f-45f...|185.33|109.37|31.84|      173.0| 143.0|   74.0|\n",
      "|0259aa6f-d531-43f...|163.33|100.15|37.54|      233.0| 140.0|  100.0|\n",
      "|029f2ed6-60a0-4d4...|170.46|111.64|38.42|      171.0| 144.0|   90.0|\n",
      "|02b97303-7790-40e...|170.45|112.29|38.65|      199.0| 144.0|   78.0|\n",
      "|030c04eb-d2db-44b...|166.01|  92.5|33.56|      178.0| 143.0|   72.0|\n",
      "|0319573e-be76-493...|175.46| 92.34|29.99|      160.0| 141.0|   98.0|\n",
      "|032a3bbb-f3f9-49a...|173.81|108.56|35.93|      172.0| 139.0|   71.0|\n",
      "|032b06a5-c22c-496...|162.92|102.96|38.79|      200.0| 143.0|   77.0|\n",
      "|033314e0-a85b-4a2...|166.72| 76.58|27.55|      182.0| 139.0|   99.0|\n",
      "|03644540-9e63-4cb...|181.81|122.25|36.98|      169.0| 142.0|   94.0|\n",
      "|03745294-8bba-414...|170.52| 96.17|33.08|      185.0| 143.0|   81.0|\n",
      "+--------------------+------+------+-----+-----------+------+-------+\n",
      "only showing top 20 rows"
     ]
    }
   ],
   "source": [
    "bucket_file = \"s3://ms-syntheamass-1m-mldata/syntheamassCSV/patient_info2/observations.csv\"\n",
    "\n",
    "data = spark.read.format(\"csv\").option(\"inferSchema\", True).option(\"header\", False).load(bucket_file)\n",
    "data.createOrReplaceTempView(\"data\")\n",
    "data = spark.sql(\"\"\"\n",
    "select _c0 as patient,\n",
    "_c1 as height, _c2 as weight, _c3 as BMI, _c4 as cholesterol,\n",
    "_c5 as sodium, _c6 as glucose\n",
    "from data\"\"\")\n",
    "\n",
    "data.show()"
   ]
  },
  {
   "cell_type": "code",
   "execution_count": 24,
   "metadata": {},
   "outputs": [
    {
     "data": {
      "application/vnd.jupyter.widget-view+json": {
       "model_id": "8e2c9044ee45498596a4906aa644c668",
       "version_major": 2,
       "version_minor": 0
      },
      "text/plain": [
       "VBox()"
      ]
     },
     "metadata": {},
     "output_type": "display_data"
    },
    {
     "data": {
      "application/vnd.jupyter.widget-view+json": {
       "model_id": "",
       "version_major": 2,
       "version_minor": 0
      },
      "text/plain": [
       "FloatProgress(value=0.0, bar_style='info', description='Progress:', layout=Layout(height='25px', width='50%'),…"
      ]
     },
     "metadata": {},
     "output_type": "display_data"
    },
    {
     "name": "stdout",
     "output_type": "stream",
     "text": [
      "+------+------+-----+-----------+------+-------+-------+\n",
      "|height|weight|  BMI|cholesterol|sodium|glucose|     ID|\n",
      "+------+------+-----+-----------+------+-------+-------+\n",
      "|176.61|116.12|37.23|      163.0| 141.0|   83.0|21687.0|\n",
      "| 172.3| 94.04|31.68|      207.0| 140.0|  116.0|12249.0|\n",
      "|177.38|135.75|43.15|      161.0| 139.0|   72.0|28222.0|\n",
      "|163.33|136.74|51.26|      162.0| 143.0|   71.0| 5018.0|\n",
      "| 161.1| 72.92| 28.1|      196.0| 137.0|   75.0|23116.0|\n",
      "|173.35|105.97|35.27|      169.0| 143.0|   85.0|10539.0|\n",
      "|151.11|102.05|44.69|      199.0| 140.0|   94.0|13891.0|\n",
      "|169.24| 96.32|33.63|      197.0| 140.0|   64.0| 4396.0|\n",
      "|157.84| 92.49|37.13|      179.0| 142.0|   88.0|24275.0|\n",
      "|185.33|109.37|31.84|      173.0| 143.0|   74.0|21453.0|\n",
      "|163.33|100.15|37.54|      233.0| 140.0|  100.0|17018.0|\n",
      "|170.46|111.64|38.42|      171.0| 144.0|   90.0|29378.0|\n",
      "|170.45|112.29|38.65|      199.0| 144.0|   78.0| 9794.0|\n",
      "|166.01|  92.5|33.56|      178.0| 143.0|   72.0|30135.0|\n",
      "|175.46| 92.34|29.99|      160.0| 141.0|   98.0|29460.0|\n",
      "|173.81|108.56|35.93|      172.0| 139.0|   71.0|15720.0|\n",
      "|162.92|102.96|38.79|      200.0| 143.0|   77.0|23009.0|\n",
      "|166.72| 76.58|27.55|      182.0| 139.0|   99.0|17764.0|\n",
      "|181.81|122.25|36.98|      169.0| 142.0|   94.0|17752.0|\n",
      "|170.52| 96.17|33.08|      185.0| 143.0|   81.0|22429.0|\n",
      "+------+------+-----+-----------+------+-------+-------+\n",
      "only showing top 20 rows"
     ]
    }
   ],
   "source": [
    "from pyspark.ml.feature import StringIndexer\n",
    "\n",
    "indexer = StringIndexer(inputCol=\"patient\", outputCol=\"ID\")\n",
    "indexed = indexer.fit(data).transform(data)\n",
    "\n",
    "indexed = indexed.drop(\"patient\")\n",
    "indexed.show()\n"
   ]
  },
  {
   "cell_type": "code",
   "execution_count": 25,
   "metadata": {},
   "outputs": [
    {
     "data": {
      "application/vnd.jupyter.widget-view+json": {
       "model_id": "b8b487618f834e109169f376e78036f4",
       "version_major": 2,
       "version_minor": 0
      },
      "text/plain": [
       "VBox()"
      ]
     },
     "metadata": {},
     "output_type": "display_data"
    },
    {
     "data": {
      "application/vnd.jupyter.widget-view+json": {
       "model_id": "",
       "version_major": 2,
       "version_minor": 0
      },
      "text/plain": [
       "FloatProgress(value=0.0, bar_style='info', description='Progress:', layout=Layout(height='25px', width='50%'),…"
      ]
     },
     "metadata": {},
     "output_type": "display_data"
    },
    {
     "name": "stdout",
     "output_type": "stream",
     "text": [
      "+-----------------------------------------------+\n",
      "|features                                       |\n",
      "+-----------------------------------------------+\n",
      "|[21687.0,176.61,116.12,37.23,163.0,141.0,83.0] |\n",
      "|[12249.0,172.3,94.04,31.68,207.0,140.0,116.0]  |\n",
      "|[28222.0,177.38,135.75,43.15,161.0,139.0,72.0] |\n",
      "|[5018.0,163.33,136.74,51.26,162.0,143.0,71.0]  |\n",
      "|[23116.0,161.1,72.92,28.1,196.0,137.0,75.0]    |\n",
      "|[10539.0,173.35,105.97,35.27,169.0,143.0,85.0] |\n",
      "|[13891.0,151.11,102.05,44.69,199.0,140.0,94.0] |\n",
      "|[4396.0,169.24,96.32,33.63,197.0,140.0,64.0]   |\n",
      "|[24275.0,157.84,92.49,37.13,179.0,142.0,88.0]  |\n",
      "|[21453.0,185.33,109.37,31.84,173.0,143.0,74.0] |\n",
      "|[17018.0,163.33,100.15,37.54,233.0,140.0,100.0]|\n",
      "|[29378.0,170.46,111.64,38.42,171.0,144.0,90.0] |\n",
      "|[9794.0,170.45,112.29,38.65,199.0,144.0,78.0]  |\n",
      "|[30135.0,166.01,92.5,33.56,178.0,143.0,72.0]   |\n",
      "|[29460.0,175.46,92.34,29.99,160.0,141.0,98.0]  |\n",
      "|[15720.0,173.81,108.56,35.93,172.0,139.0,71.0] |\n",
      "|[23009.0,162.92,102.96,38.79,200.0,143.0,77.0] |\n",
      "|[17764.0,166.72,76.58,27.55,182.0,139.0,99.0]  |\n",
      "|[17752.0,181.81,122.25,36.98,169.0,142.0,94.0] |\n",
      "|[22429.0,170.52,96.17,33.08,185.0,143.0,81.0]  |\n",
      "+-----------------------------------------------+\n",
      "only showing top 20 rows"
     ]
    }
   ],
   "source": [
    "# creating a vector of features for each row\n",
    "from pyspark.ml.feature import VectorAssembler\n",
    "\n",
    "features = ('ID', 'height', 'weight', 'BMI', 'cholesterol', 'sodium', 'glucose')\n",
    "\n",
    "assembler = VectorAssembler(inputCols=features, outputCol = \"features\")\n",
    "\n",
    "raw_data = assembler.transform(indexed)\n",
    "raw_data.select(\"features\").show(truncate = False)"
   ]
  },
  {
   "cell_type": "code",
   "execution_count": 30,
   "metadata": {},
   "outputs": [
    {
     "data": {
      "application/vnd.jupyter.widget-view+json": {
       "model_id": "67531dd7de8a4462b0f5498bc9677484",
       "version_major": 2,
       "version_minor": 0
      },
      "text/plain": [
       "VBox()"
      ]
     },
     "metadata": {},
     "output_type": "display_data"
    },
    {
     "data": {
      "application/vnd.jupyter.widget-view+json": {
       "model_id": "",
       "version_major": 2,
       "version_minor": 0
      },
      "text/plain": [
       "FloatProgress(value=0.0, bar_style='info', description='Progress:', layout=Layout(height='25px', width='50%'),…"
      ]
     },
     "metadata": {},
     "output_type": "display_data"
    },
    {
     "name": "stdout",
     "output_type": "stream",
     "text": [
      "+--------------------+\n",
      "|     scaled_features|\n",
      "+--------------------+\n",
      "|[2.47080205020966...|\n",
      "|[1.39552977880842...|\n",
      "|[3.21533524512460...|\n",
      "|[0.57170123520782...|\n",
      "|[2.63360816123238...|\n",
      "+--------------------+\n",
      "only showing top 5 rows"
     ]
    }
   ],
   "source": [
    "# scaling the feature vectors and creating a column with the output\n",
    "from pyspark.ml.feature import StandardScaler\n",
    "\n",
    "standardscaler = StandardScaler().setInputCol(\"features\").setOutputCol(\"scaled_features\")\n",
    "\n",
    "raw_data = standardscaler.fit(raw_data).transform(raw_data)\n",
    "raw_data.select(\"scaled_features\").show(5, truncate = True)"
   ]
  },
  {
   "cell_type": "code",
   "execution_count": 11,
   "metadata": {},
   "outputs": [
    {
     "data": {
      "application/vnd.jupyter.widget-view+json": {
       "model_id": "f2f32f3cd3964cc2895951ebc60c283e",
       "version_major": 2,
       "version_minor": 0
      },
      "text/plain": [
       "VBox()"
      ]
     },
     "metadata": {},
     "output_type": "display_data"
    },
    {
     "data": {
      "application/vnd.jupyter.widget-view+json": {
       "model_id": "",
       "version_major": 2,
       "version_minor": 0
      },
      "text/plain": [
       "FloatProgress(value=0.0, bar_style='info', description='Progress:', layout=Layout(height='25px', width='50%'),…"
      ]
     },
     "metadata": {},
     "output_type": "display_data"
    }
   ],
   "source": [
    "# training the k-means model using the scaled features column\n",
    "from pyspark.ml.clustering import KMeans\n",
    "\n",
    "kmeans = KMeans(featuresCol = \"scaled_features\").setK(5).setSeed(1)\n",
    "model = kmeans.fit(raw_data)\n",
    "\n"
   ]
  },
  {
   "cell_type": "code",
   "execution_count": null,
   "metadata": {},
   "outputs": [],
   "source": [
    "# performing the k-means clustering job\n",
    "predictions = model.transform(raw_data)"
   ]
  },
  {
   "cell_type": "code",
   "execution_count": 33,
   "metadata": {},
   "outputs": [
    {
     "data": {
      "application/vnd.jupyter.widget-view+json": {
       "model_id": "1520032ec4c6446893e8815deb99202c",
       "version_major": 2,
       "version_minor": 0
      },
      "text/plain": [
       "VBox()"
      ]
     },
     "metadata": {},
     "output_type": "display_data"
    },
    {
     "data": {
      "application/vnd.jupyter.widget-view+json": {
       "model_id": "",
       "version_major": 2,
       "version_minor": 0
      },
      "text/plain": [
       "FloatProgress(value=0.0, bar_style='info', description='Progress:', layout=Layout(height='25px', width='50%'),…"
      ]
     },
     "metadata": {},
     "output_type": "display_data"
    },
    {
     "name": "stdout",
     "output_type": "stream",
     "text": [
      "+----------+-----------------+\n",
      "|prediction|count(prediction)|\n",
      "+----------+-----------------+\n",
      "|         1|             8296|\n",
      "|         3|             2600|\n",
      "|         4|             5203|\n",
      "|         2|             6372|\n",
      "|         0|             7934|\n",
      "+----------+-----------------+"
     ]
    }
   ],
   "source": [
    "# listing the number of data points in each cluster\n",
    "clusters = predictions.select(\"prediction\")\n",
    "clusters.groupby(\"prediction\").agg({'prediction': 'count'}).show()"
   ]
  },
  {
   "cell_type": "code",
   "execution_count": 34,
   "metadata": {},
   "outputs": [
    {
     "data": {
      "application/vnd.jupyter.widget-view+json": {
       "model_id": "f052ff8c8ae444df95a713610862528b",
       "version_major": 2,
       "version_minor": 0
      },
      "text/plain": [
       "VBox()"
      ]
     },
     "metadata": {},
     "output_type": "display_data"
    },
    {
     "data": {
      "application/vnd.jupyter.widget-view+json": {
       "model_id": "",
       "version_major": 2,
       "version_minor": 0
      },
      "text/plain": [
       "FloatProgress(value=0.0, bar_style='info', description='Progress:', layout=Layout(height='25px', width='50%'),…"
      ]
     },
     "metadata": {},
     "output_type": "display_data"
    },
    {
     "name": "stdout",
     "output_type": "stream",
     "text": [
      "+----------+-----------------+\n",
      "|prediction|count(prediction)|\n",
      "+----------+-----------------+\n",
      "|         1|             8430|\n",
      "|         3|             5189|\n",
      "|         4|             3010|\n",
      "|         2|             4951|\n",
      "|         0|             8825|\n",
      "+----------+-----------------+"
     ]
    }
   ],
   "source": [
    "# performing a heirarchical clustering job\n",
    "\n",
    "from pyspark.ml.clustering import BisectingKMeans\n",
    "\n",
    "# training the model\n",
    "bkm = BisectingKMeans(featuresCol=\"scaled_features\").setK(5).setSeed(1)\n",
    "model = bkm.fit(raw_data)\n",
    "\n",
    "# creating predictions \n",
    "predictions_b = model.transform(raw_data)\n",
    "\n",
    "# listing the number of points in each cluster\n",
    "cm = predictions_b.select(\"prediction\")\n",
    "cm.groupby(\"prediction\").agg({'prediction': 'count'}).show()"
   ]
  },
  {
   "cell_type": "code",
   "execution_count": 35,
   "metadata": {},
   "outputs": [
    {
     "data": {
      "application/vnd.jupyter.widget-view+json": {
       "model_id": "432e0615157e45d5a926e9884fa7859c",
       "version_major": 2,
       "version_minor": 0
      },
      "text/plain": [
       "VBox()"
      ]
     },
     "metadata": {},
     "output_type": "display_data"
    },
    {
     "data": {
      "application/vnd.jupyter.widget-view+json": {
       "model_id": "",
       "version_major": 2,
       "version_minor": 0
      },
      "text/plain": [
       "FloatProgress(value=0.0, bar_style='info', description='Progress:', layout=Layout(height='25px', width='50%'),…"
      ]
     },
     "metadata": {},
     "output_type": "display_data"
    },
    {
     "name": "stdout",
     "output_type": "stream",
     "text": [
      "K-means silhouette with squared euclidean distance = -0.131598264118536 \n",
      " \n",
      "        Hierarchical silhouette with squared euclidean distance = -0.23110782587064593"
     ]
    }
   ],
   "source": [
    "from pyspark.ml.evaluation import ClusteringEvaluator\n",
    "\n",
    "# Make predictions\n",
    "\n",
    "\n",
    "#Evaluate using Silhouette score\n",
    "evaluator = ClusteringEvaluator()\n",
    "\n",
    "silhouette_k = evaluator.evaluate(predictions)\n",
    "silhouette_h = evaluator.evaluate(predictions_b)\n",
    "print(f\"\"\"K-means silhouette with squared euclidean distance = {str(silhouette_k)} \\n \n",
    "    Hierarchical silhouette with squared euclidean distance = {str(silhouette_h)}\"\"\")"
   ]
  },
  {
   "cell_type": "code",
   "execution_count": null,
   "metadata": {},
   "outputs": [],
   "source": []
  }
 ],
 "metadata": {
  "kernelspec": {
   "display_name": "PySpark",
   "language": "",
   "name": "pysparkkernel"
  },
  "language_info": {
   "codemirror_mode": {
    "name": "python",
    "version": 2
   },
   "mimetype": "text/x-python",
   "name": "pyspark",
   "pygments_lexer": "python2"
  }
 },
 "nbformat": 4,
 "nbformat_minor": 4
}
